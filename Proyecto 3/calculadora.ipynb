{
 "cells": [
  {
   "cell_type": "code",
   "execution_count": 5,
   "metadata": {},
   "outputs": [
    {
     "name": "stdout",
     "output_type": "stream",
     "text": [
      "Bienvenidos a la calculadora de propinas\n",
      "\n",
      " El valor total a pagar es de 220.0\n",
      "\n",
      " El valor a pagar por persona es de 44.0\n"
     ]
    }
   ],
   "source": [
    "print(\"Bienvenidos a la calculadora de propinas\")\n",
    "factura = float(input('¿Cuál es el total de la factura?'))\n",
    "propina = int(input('¿Cuál es en el porcentaje de propina a dejar?'))\n",
    "personas = int(input('¿Cuántas personas son?'))\n",
    "\n",
    "procentaje_propina = propina / 100\n",
    "importe_propina = (factura * procentaje_propina)\n",
    "factura_total = (factura + importe_propina)\n",
    "factura_persona = (factura + importe_propina) / personas\n",
    "\n",
    "print(\"\\n El valor total a pagar es de {}\".format(factura_total))\n",
    "print(\"\\n El valor a pagar por persona es de {}\".format(factura_persona))\n"
   ]
  }
 ],
 "metadata": {
  "kernelspec": {
   "display_name": "Python 3",
   "language": "python",
   "name": "python3"
  },
  "language_info": {
   "codemirror_mode": {
    "name": "ipython",
    "version": 3
   },
   "file_extension": ".py",
   "mimetype": "text/x-python",
   "name": "python",
   "nbconvert_exporter": "python",
   "pygments_lexer": "ipython3",
   "version": "3.10.9"
  },
  "orig_nbformat": 4,
  "vscode": {
   "interpreter": {
    "hash": "e0d6f955f6b20eb780b1bed86b0701aab2a0d057c895afdcce576bc2196dcc6d"
   }
  }
 },
 "nbformat": 4,
 "nbformat_minor": 2
}
