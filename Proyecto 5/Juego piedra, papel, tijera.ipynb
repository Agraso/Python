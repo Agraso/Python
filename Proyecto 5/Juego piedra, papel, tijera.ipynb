{
 "cells": [
  {
   "cell_type": "code",
   "execution_count": 18,
   "metadata": {},
   "outputs": [
    {
     "name": "stdout",
     "output_type": "stream",
     "text": [
      "Bienvenido al juego\n",
      "Usuario = 0\n",
      "Ordenador = 2\n",
      "Ha ganado el usuario\n"
     ]
    }
   ],
   "source": [
    "import random\n",
    "\n",
    "print('Bienvenido al juego')\n",
    "usuario = int(input('¿Qué opción elijes? Escribe \"0\" para piedra, \"1\" para papel o \"2\" para tijera'))\n",
    "\n",
    "ordenador = random.randint(0,2)\n",
    "\n",
    "\n",
    "print('Usuario = ' + str(usuario))\n",
    "print('Ordenador = ' + str(ordenador))\n",
    "\n",
    "if usuario == 0 and ordenador == 2:\n",
    "    print('Ha ganado el usuario')\n",
    "elif usuario > ordenador:\n",
    "    print('Ha ganado el usuario')\n",
    "elif usuario == ordenador:\n",
    "    print('Empate')\n",
    "else:\n",
    "    print('Ha ganado la computadora')"
   ]
  },
  {
   "cell_type": "code",
   "execution_count": null,
   "metadata": {},
   "outputs": [],
   "source": []
  }
 ],
 "metadata": {
  "kernelspec": {
   "display_name": "Python 3",
   "language": "python",
   "name": "python3"
  },
  "language_info": {
   "codemirror_mode": {
    "name": "ipython",
    "version": 3
   },
   "file_extension": ".py",
   "mimetype": "text/x-python",
   "name": "python",
   "nbconvert_exporter": "python",
   "pygments_lexer": "ipython3",
   "version": "3.10.9"
  },
  "orig_nbformat": 4,
  "vscode": {
   "interpreter": {
    "hash": "e0d6f955f6b20eb780b1bed86b0701aab2a0d057c895afdcce576bc2196dcc6d"
   }
  }
 },
 "nbformat": 4,
 "nbformat_minor": 2
}
