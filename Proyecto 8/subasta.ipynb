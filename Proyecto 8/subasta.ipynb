{
 "cells": [
  {
   "cell_type": "code",
   "execution_count": 1,
   "metadata": {},
   "outputs": [
    {
     "name": "stdout",
     "output_type": "stream",
     "text": [
      "Bienvenidos al programa de subastas\n",
      "\u001b[H\u001b[2J\u001b[H\u001b[2JEl ganador de la apuesta es Maria con un precio de 300.0 \n"
     ]
    }
   ],
   "source": [
    "from replit import clear\n",
    "\n",
    "\n",
    "def calcular_ganador(apuestas):\n",
    "    apuesta_maxima = 0\n",
    "    ganador = \"\"\n",
    "    for clave in apuestas:\n",
    "        precio_apuesta = apuestas[clave]\n",
    "        if precio_apuesta > apuesta_maxima:\n",
    "            apuesta_maxima = precio_apuesta\n",
    "            ganador = clave\n",
    "    print(f'El ganador de la apuesta es {ganador} con un precio de {apuesta_maxima} ')\n",
    "\n",
    "\n",
    "print('Bienvenidos al programa de subastas')\n",
    "apuestas = {}\n",
    "\n",
    "mas_apuestas = True\n",
    "while mas_apuestas:\n",
    "    nombre = input('¿Cuál es su nombre?')\n",
    "    precio = float(input('¿Cuál es el precio a apostar?'))\n",
    "    apuestas[nombre] = precio\n",
    "    \n",
    "    pregunta = input('¿Hay mas personas que quieran apostar? Escribe \"Si\" o \"No\"').lower()\n",
    "    if pregunta == 'si':\n",
    "        clear()\n",
    "    elif pregunta == 'no':\n",
    "        mas_apuestas = False\n",
    "        \n",
    "clear()\n",
    "       \n",
    "calcular_ganador(apuestas)\n",
    "\n"
   ]
  },
  {
   "cell_type": "code",
   "execution_count": null,
   "metadata": {},
   "outputs": [],
   "source": []
  }
 ],
 "metadata": {
  "kernelspec": {
   "display_name": "Python 3",
   "language": "python",
   "name": "python3"
  },
  "language_info": {
   "codemirror_mode": {
    "name": "ipython",
    "version": 3
   },
   "file_extension": ".py",
   "mimetype": "text/x-python",
   "name": "python",
   "nbconvert_exporter": "python",
   "pygments_lexer": "ipython3",
   "version": "3.10.9"
  },
  "orig_nbformat": 4,
  "vscode": {
   "interpreter": {
    "hash": "e0d6f955f6b20eb780b1bed86b0701aab2a0d057c895afdcce576bc2196dcc6d"
   }
  }
 },
 "nbformat": 4,
 "nbformat_minor": 2
}
