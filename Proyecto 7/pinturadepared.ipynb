{
 "cells": [
  {
   "cell_type": "code",
   "execution_count": 2,
   "metadata": {},
   "outputs": [
    {
     "name": "stdout",
     "output_type": "stream",
     "text": [
      "Bienvenido a la aplicación\n",
      "La cantidad de botes a comprar es de: 6\n"
     ]
    }
   ],
   "source": [
    "import math\n",
    "\n",
    "def calcular_botes(alto,ancho,metro):\n",
    "    valor = (alto * ancho) / metro\n",
    "    botes = math.ceil(valor)\n",
    "    return(botes)\n",
    "\n",
    "print('Bienvenido a la aplicación')\n",
    "\n",
    "alto = int(input('¿Cuál es la altura de la pared?'))\n",
    "ancho = int(input('¿Cuál es el ancho de la pared?'))\n",
    "metro = float(input('según el bote que compró ¿Cuántos metros cuadrados cubre'))\n",
    "\n",
    "resultado = calcular_botes(alto, ancho, metro)\n",
    "\n",
    "print('La cantidad de botes a comprar es de: ' + str(resultado))"
   ]
  }
 ],
 "metadata": {
  "kernelspec": {
   "display_name": "Python 3",
   "language": "python",
   "name": "python3"
  },
  "language_info": {
   "codemirror_mode": {
    "name": "ipython",
    "version": 3
   },
   "file_extension": ".py",
   "mimetype": "text/x-python",
   "name": "python",
   "nbconvert_exporter": "python",
   "pygments_lexer": "ipython3",
   "version": "3.10.9"
  },
  "orig_nbformat": 4,
  "vscode": {
   "interpreter": {
    "hash": "e0d6f955f6b20eb780b1bed86b0701aab2a0d057c895afdcce576bc2196dcc6d"
   }
  }
 },
 "nbformat": 4,
 "nbformat_minor": 2
}
