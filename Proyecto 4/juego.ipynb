{
 "cells": [
  {
   "cell_type": "code",
   "execution_count": 4,
   "metadata": {},
   "outputs": [
    {
     "name": "stdout",
     "output_type": "stream",
     "text": [
      "Bienvenido al juego de preguntas estilo beber\n",
      "Te has salvado deberias estar agradecido\n",
      "Bueno pues te toca nadar en alcohol\n"
     ]
    }
   ],
   "source": [
    "print('Bienvenido al juego de preguntas estilo beber')\n",
    "\n",
    "respuesta1 = input('Decide: \"Derecha\" o \"Izquierda\"')\n",
    "if respuesta1 == 'Izquierda':\n",
    "    print('Nada te toca beber')\n",
    "else:\n",
    "    pass\n",
    "\n",
    "print('Te has salvado deberias estar agradecido')\n",
    "respuesta2 = input('Te toca decidir otra vez: \"Nadar\" o \"Caminar\"')\n",
    "if respuesta2 == 'Nadar':\n",
    "    print('Bueno pues te toca nadar en alcohol')\n",
    "else:\n",
    "    pass\n",
    "\n",
    "print('UFFF te salvaste de nuevo...')\n",
    "respuesta3 = ('Bueno esta es la ultima va por todo. Decide \"Rojo\" , \"Verde\" o \"Azul\"')\n",
    "if respuesta3 == 'Verde':\n",
    "    print('Enhorabuna te has salvado, como recompensa manda a beber a los demás')\n",
    "else:\n",
    "    print('No vale solo te faltaba una por tonto/a te toca beber el doble')\n",
    "    \n",
    "print('\\n Fin del juego')"
   ]
  },
  {
   "cell_type": "code",
   "execution_count": null,
   "metadata": {},
   "outputs": [],
   "source": []
  }
 ],
 "metadata": {
  "kernelspec": {
   "display_name": "Python 3",
   "language": "python",
   "name": "python3"
  },
  "language_info": {
   "codemirror_mode": {
    "name": "ipython",
    "version": 3
   },
   "file_extension": ".py",
   "mimetype": "text/x-python",
   "name": "python",
   "nbconvert_exporter": "python",
   "pygments_lexer": "ipython3",
   "version": "3.10.9 (tags/v3.10.9:1dd9be6, Dec  6 2022, 20:01:21) [MSC v.1934 64 bit (AMD64)]"
  },
  "orig_nbformat": 4,
  "vscode": {
   "interpreter": {
    "hash": "e0d6f955f6b20eb780b1bed86b0701aab2a0d057c895afdcce576bc2196dcc6d"
   }
  }
 },
 "nbformat": 4,
 "nbformat_minor": 2
}
