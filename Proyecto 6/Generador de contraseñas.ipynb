{
 "cells": [
  {
   "cell_type": "code",
   "execution_count": 24,
   "metadata": {},
   "outputs": [
    {
     "name": "stdout",
     "output_type": "stream",
     "text": [
      "Bienvenidos al generador de contraseñas\n",
      "Su nueva contraseña será: 28]RWA\n"
     ]
    }
   ],
   "source": [
    "import random\n",
    "\n",
    "letras = list('QWERTYUIOPASDFGHJKLÑZXCVBNM')\n",
    "numeros = ['0','1','2','3','4','5','6','7','8','9','0']\n",
    "simbolos = list('!\"·$%&/()=?¿[}]{:;_-+/')\n",
    "\n",
    "print('Bienvenidos al generador de contraseñas')\n",
    "letra_usuario= int(input('¿Cuántas letras desea en la contraseña?'))\n",
    "numero_usuario= int(input('¿Cuántos números desea en la contraseña?'))\n",
    "simbolo_usuario= int(input('¿Cuántos simbolos desea en la contraseña?'))\n",
    "\n",
    "lista = []\n",
    "for letra in range(1, letra_usuario + 1):\n",
    "    valor = random.choice(letras)\n",
    "    lista.append(valor)\n",
    "\n",
    "for numero in range(1, numero_usuario + 1):\n",
    "    valor = random.choice(numeros)\n",
    "    lista.append(valor)\n",
    "    \n",
    "for simbolo in range(1, simbolo_usuario + 1):\n",
    "    valor = random.choice(simbolos)\n",
    "    lista.append(valor)\n",
    "    \n",
    "    \n",
    "random.shuffle(lista)\n",
    "password = \"\"\n",
    "for caracter in lista:\n",
    "    password = password + caracter\n",
    "\n",
    "\n",
    "print('Su nueva contraseña será: ' + str(password))\n"
   ]
  }
 ],
 "metadata": {
  "kernelspec": {
   "display_name": "Python 3",
   "language": "python",
   "name": "python3"
  },
  "language_info": {
   "codemirror_mode": {
    "name": "ipython",
    "version": 3
   },
   "file_extension": ".py",
   "mimetype": "text/x-python",
   "name": "python",
   "nbconvert_exporter": "python",
   "pygments_lexer": "ipython3",
   "version": "3.10.9 (tags/v3.10.9:1dd9be6, Dec  6 2022, 20:01:21) [MSC v.1934 64 bit (AMD64)]"
  },
  "orig_nbformat": 4,
  "vscode": {
   "interpreter": {
    "hash": "e0d6f955f6b20eb780b1bed86b0701aab2a0d057c895afdcce576bc2196dcc6d"
   }
  }
 },
 "nbformat": 4,
 "nbformat_minor": 2
}
